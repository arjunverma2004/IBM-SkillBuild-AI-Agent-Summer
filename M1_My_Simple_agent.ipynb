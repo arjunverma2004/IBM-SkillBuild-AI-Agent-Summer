{
  "nbformat": 4,
  "nbformat_minor": 0,
  "metadata": {
    "colab": {
      "provenance": [],
      "include_colab_link": true
    },
    "kernelspec": {
      "name": "python3",
      "display_name": "Python 3"
    },
    "language_info": {
      "name": "python"
    }
  },
  "cells": [
    {
      "cell_type": "markdown",
      "metadata": {
        "id": "view-in-github",
        "colab_type": "text"
      },
      "source": [
        "<a href=\"https://colab.research.google.com/github/arjunverma2004/IBM-SkillBuild-AI-Agent-Summer/blob/main/M1_My_Simple_agent.ipynb\" target=\"_parent\"><img src=\"https://colab.research.google.com/assets/colab-badge.svg\" alt=\"Open In Colab\"/></a>"
      ]
    },
    {
      "cell_type": "markdown",
      "source": [
        "API KEY: XXXXX\n"
      ],
      "metadata": {
        "id": "D64aFfnlBb0b"
      }
    },
    {
      "cell_type": "markdown",
      "source": [
        "Step 1: Install required packages"
      ],
      "metadata": {
        "id": "pmqDc2m9G51t"
      }
    },
    {
      "cell_type": "code",
      "source": [
        "!pip install google-generativeai --quiet\n",
        "!pip install ipywidgets --quiet"
      ],
      "metadata": {
        "colab": {
          "base_uri": "https://localhost:8080/"
        },
        "id": "w3Z7GVwPCAsJ",
        "outputId": "8e3d71f5-ecc2-49d4-cd30-991d3d9a9a93"
      },
      "execution_count": null,
      "outputs": [
        {
          "output_type": "stream",
          "name": "stdout",
          "text": [
            "\u001b[?25l   \u001b[90m━━━━━━━━━━━━━━━━━━━━━━━━━━━━━━━━━━━━━━━━\u001b[0m \u001b[32m0.0/1.6 MB\u001b[0m \u001b[31m?\u001b[0m eta \u001b[36m-:--:--\u001b[0m\r\u001b[2K   \u001b[90m━━━━━━━━━━━━━━━━━━━━━━━━━━━━━━━━━━━━━━━━\u001b[0m \u001b[32m1.6/1.6 MB\u001b[0m \u001b[31m56.8 MB/s\u001b[0m eta \u001b[36m0:00:00\u001b[0m\n",
            "\u001b[?25h"
          ]
        }
      ]
    },
    {
      "cell_type": "markdown",
      "source": [
        "Step 2: Import libraries"
      ],
      "metadata": {
        "id": "xF6xdxMRG_nv"
      }
    },
    {
      "cell_type": "code",
      "source": [
        "import google.generativeai as genai\n",
        "import ipywidgets as widgets\n",
        "from IPython.display import display, Markdown"
      ],
      "metadata": {
        "id": "l2YsAGYwCSqF"
      },
      "execution_count": null,
      "outputs": []
    },
    {
      "cell_type": "markdown",
      "source": [
        "Step 3: Set up Gemini API"
      ],
      "metadata": {
        "id": "O_ASCfqbHCCx"
      }
    },
    {
      "cell_type": "code",
      "source": [
        "API_KEY=\"XXXXXX\"\n",
        "genai.configure(api_key=API_KEY)\n",
        "model= genai.GenerativeModel(\"gemini-2.5-flash\")"
      ],
      "metadata": {
        "id": "aKfBIIBCCmk-"
      },
      "execution_count": null,
      "outputs": []
    },
    {
      "cell_type": "markdown",
      "source": [
        "Step 4: Define the input form"
      ],
      "metadata": {
        "id": "6U4nkTanHF0M"
      }
    },
    {
      "cell_type": "code",
      "source": [
        "topic_input = widgets.Text(\n",
        "    value='',\n",
        "    layout=widgets.Layout(width=\"400px\"),\n",
        "    placeholder='Enter the topic',\n",
        "    description='Topic:',\n",
        "    disabled=False\n",
        ")\n",
        "tone_input = widgets.Dropdown(\n",
        "    options=['Professional', 'Casual', 'Motivational', 'Informative'],\n",
        "    description='Tone:',\n",
        "    disabled=False,\n",
        "    layout=widgets.Layout(width=\"400px\")\n",
        "\n",
        ")\n",
        "audience_input = widgets.Text(\n",
        "    value='',\n",
        "    layout=widgets.Layout(width=\"400px\"),\n",
        "    placeholder='Enter the audience',\n",
        "    description='Audience:',\n",
        "    disabled=False\n",
        ")\n",
        "hastag_input = widgets.Text(\n",
        "    value='',\n",
        "    layout=widgets.Layout(width=\"400px\"),\n",
        "    placeholder='Enter the hashtags',\n",
        "    description='Hashtags:',\n",
        "    disabled=False\n",
        ")\n",
        "submit_button = widgets.Button(\n",
        "    value='',\n",
        "    layout=widgets.Layout(width=\"400px\"),\n",
        "    tooltip=\"Click to Generate\",\n",
        "    description='Generate Tweet',\n",
        "    disabled=False\n",
        ")\n",
        "output = widgets.Output()"
      ],
      "metadata": {
        "id": "7UbOXWrxDT8z"
      },
      "execution_count": null,
      "outputs": []
    },
    {
      "cell_type": "markdown",
      "source": [
        "Step 5: Generate Tweet Function"
      ],
      "metadata": {
        "id": "J4m4aGgSHIOm"
      }
    },
    {
      "cell_type": "code",
      "source": [
        "def generate_tweet(b):\n",
        "    output.clear_output()\n",
        "    prompt = f\"\"\"\n",
        "    You are an expert Content Writer generate a tweet about '{topic_input}', and use the tone\n",
        "    {tone_input}, Generate tweet for audiencce {audience_input} and use the hashtags {hastag_input}. Keep\n",
        "    it under 280 characters \"\"\"\n",
        "\n",
        "    with output:\n",
        "      try:\n",
        "        response = model.generate_content(prompt)\n",
        "        tweet = response.text.strip()\n",
        "        display(Markdown(f\"**Generated Tweet:**\\n\\n{tweet}\"))\n",
        "      except Exception as e:\n",
        "        display(Markdown(f\"**Error:**\\n\\n{str(e)}\"))\n",
        "\n",
        "submit_button.on_click(generate_tweet)"
      ],
      "metadata": {
        "id": "YMlbRAYNGKJt"
      },
      "execution_count": null,
      "outputs": []
    },
    {
      "cell_type": "markdown",
      "source": [
        "Step 6: Display the form"
      ],
      "metadata": {
        "id": "pRaayOW-HSWY"
      }
    },
    {
      "cell_type": "markdown",
      "source": [],
      "metadata": {
        "id": "hHbg-d3CIWtJ"
      }
    },
    {
      "cell_type": "code",
      "source": [
        "form = widgets.VBox([widgets.HTML(value=\"<h3>Generate Tweet</h3>\"), topic_input, tone_input, audience_input, hastag_input, submit_button, output])\n",
        "display(form)"
      ],
      "metadata": {
        "id": "Ws38-WHJHyDU"
      },
      "execution_count": null,
      "outputs": []
    }
  ]
}